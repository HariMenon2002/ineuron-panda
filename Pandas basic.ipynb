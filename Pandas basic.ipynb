{
 "cells": [
  {
   "cell_type": "markdown",
   "id": "07060450-4783-47ff-aee6-ab9aa9f40018",
   "metadata": {},
   "source": [
    "QUESTION 1\n",
    "Create a Pandas Series that contains the following data: 4, 8, 15, 16, 23, and 42. Then, print the series."
   ]
  },
  {
   "cell_type": "code",
   "execution_count": 2,
   "id": "b7ba6b66-e4bf-4335-8ea4-6594bdea2269",
   "metadata": {},
   "outputs": [
    {
     "name": "stdout",
     "output_type": "stream",
     "text": [
      "0     4\n",
      "1     8\n",
      "2    15\n",
      "3    16\n",
      "4    23\n",
      "5    42\n",
      "dtype: int64\n"
     ]
    },
    {
     "data": {
      "text/plain": [
       "pandas.core.series.Series"
      ]
     },
     "execution_count": 2,
     "metadata": {},
     "output_type": "execute_result"
    }
   ],
   "source": [
    "import pandas as pd\n",
    "\n",
    "data = [4, 8, 15, 16, 23, 42]\n",
    "series = pd.Series(data)\n",
    "print(series)\n",
    "type(series)"
   ]
  },
  {
   "cell_type": "markdown",
   "id": "ac1c2e4b-7787-48b7-b58c-e4058e170e5c",
   "metadata": {},
   "source": [
    "QUESTION 2 \n",
    "Create a variable of list type containing 10 elements in it, and apply pandas.Series function on the variable and print it"
   ]
  },
  {
   "cell_type": "code",
   "execution_count": 4,
   "id": "5309b5d7-2865-4953-9726-edad9e9717de",
   "metadata": {},
   "outputs": [
    {
     "name": "stdout",
     "output_type": "stream",
     "text": [
      "0     1\n",
      "1     2\n",
      "2     3\n",
      "3     4\n",
      "4     5\n",
      "5     6\n",
      "6     7\n",
      "7     8\n",
      "8     9\n",
      "9    10\n",
      "dtype: int64\n"
     ]
    }
   ],
   "source": [
    "import pandas as pd\n",
    "\n",
    "my_list = [1, 2, 3, 4, 5, 6, 7, 8, 9, 10]\n",
    "my_series = pd.Series(my_list)\n",
    "print(my_series)"
   ]
  },
  {
   "cell_type": "markdown",
   "id": "07e94fd3-00f0-4d71-a7ef-19738141f1d6",
   "metadata": {},
   "source": [
    "QUESTION 3"
   ]
  },
  {
   "cell_type": "code",
   "execution_count": 9,
   "id": "c041ad1d-4120-4f8d-a62e-291e2b6d81ae",
   "metadata": {},
   "outputs": [
    {
     "name": "stdout",
     "output_type": "stream",
     "text": [
      "     Name  Age  Gender\n",
      "0   Alice   25  Female\n",
      "1     Bob   30    Male\n",
      "2  Claire   27  Female\n"
     ]
    }
   ],
   "source": [
    "data={\n",
    "    'Name':['Alice','Bob','Claire'],\n",
    "    'Age': [25, 30, 27],\n",
    "    'Gender': ['Female', 'Male', 'Female']\n",
    "}\n",
    "df=pd.DataFrame(data)\n",
    "print(df)"
   ]
  },
  {
   "cell_type": "markdown",
   "id": "2530a7e5-7d80-4d52-9c6f-dffa027ccbdd",
   "metadata": {},
   "source": [
    "QUESTION 4"
   ]
  },
  {
   "cell_type": "markdown",
   "id": "e0f92627-90b1-479a-82ff-1da6e48c3df1",
   "metadata": {},
   "source": [
    "In Pandas, a DataFrame is a two-dimensional labeled data structure with columns of potentially different data types. It is like a spreadsheet or a SQL table, where data is organized in rows and columns. On the other hand, a Series is a one-dimensional labeled array capable of holding data of any type. It can be thought of as a column in a DataFrame.\n",
    "\n",
    "For example:"
   ]
  },
  {
   "cell_type": "code",
   "execution_count": 11,
   "id": "f8fd700b-a01f-4d33-95d8-333acba421b2",
   "metadata": {},
   "outputs": [
    {
     "name": "stdout",
     "output_type": "stream",
     "text": [
      "    Name  Age      City\n",
      "0   John   25  New York\n",
      "1  Alice   32     Paris\n",
      "2    Bob   19    London\n",
      "3  Emily   27    Sydney\n",
      "0    25\n",
      "1    32\n",
      "2    19\n",
      "3    27\n",
      "Name: Age, dtype: int64\n"
     ]
    }
   ],
   "source": [
    "import pandas as pd\n",
    "\n",
    "data = {\n",
    "    'Name': ['John', 'Alice', 'Bob', 'Emily'],\n",
    "    'Age': [25, 32, 19, 27],\n",
    "    'City': ['New York', 'Paris', 'London', 'Sydney']\n",
    "}\n",
    "\n",
    "df = pd.DataFrame(data)\n",
    "series = df['Age']\n",
    "\n",
    "print(df)\n",
    "print(series)"
   ]
  },
  {
   "cell_type": "markdown",
   "id": "4d25b26c-78e5-4833-a4a0-265de9775047",
   "metadata": {},
   "source": [
    "Here Age is considered as series"
   ]
  },
  {
   "cell_type": "markdown",
   "id": "ddad0ce4-51f5-47f4-a952-2165c774c530",
   "metadata": {},
   "source": [
    "QUESTION 5"
   ]
  },
  {
   "cell_type": "markdown",
   "id": "c9828ad1-817d-4409-afc5-d9d93bb7dfde",
   "metadata": {},
   "source": [
    "There are many functions available in Pandas to manipulate data in a DataFrame. Here are some of the most commonly used functions:\n",
    "\n",
    "head() and tail(): These functions are used to view the first and last n rows of a DataFrame, respectively. For example, df.head() will show the first five rows of the DataFrame df.\n",
    "\n",
    "describe(): This function is used to generate descriptive statistics for the DataFrame. For example, df.describe() will show the count, mean, standard deviation, minimum, and maximum values for each numeric column in the DataFrame.\n",
    "\n",
    "dropna(): This function is used to remove rows or columns that contain missing data. For example, df.dropna() will remove any rows that contain missing data.\n",
    "\n",
    "groupby(): This function is used to group data in a DataFrame by one or more columns and apply a function to each group. For example, df.groupby('City').mean() will group the data by the City column and calculate the mean for each numeric column for each group.\n",
    "\n",
    "sort_values(): This function is used to sort the data in a DataFrame by one or more columns. For example, df.sort_values('Age') will sort the data by the Age column in ascending order.\n",
    "\n",
    "merge(): This function is used to combine two or more DataFrames into a single DataFrame based on a common column. For example, df.merge(other_df, on='ID') will merge the df and other_df DataFrames based on the ID column."
   ]
  },
  {
   "cell_type": "markdown",
   "id": "204f7579-b450-422e-b7e1-ffdbbb46dfcb",
   "metadata": {},
   "source": [
    "QUESTION 6"
   ]
  },
  {
   "cell_type": "markdown",
   "id": "aaee1295-a10c-459b-a976-5af0542623b7",
   "metadata": {},
   "source": [
    "In Pandas, both Series and DataFrame are mutable in nature, which means you can modify their values, add or remove columns, and manipulate their structure.\n",
    "\n",
    "However, Panel is no longer actively developed or maintained in the latest version of Pandas (as of version 1.0), and it has been deprecated in favor of using multi-dimensional arrays or DataFrames with hierarchical indexing. In any case, Panel is also mutable in nature."
   ]
  },
  {
   "cell_type": "markdown",
   "id": "b5bef0fd-ed74-46d1-8679-d094b56d81e8",
   "metadata": {},
   "source": [
    "QUESTION 7"
   ]
  },
  {
   "cell_type": "markdown",
   "id": "0077f504-9259-40e0-aa82-1b6b349609f0",
   "metadata": {},
   "source": [
    "To create a DataFrame using multiple Series, we can combine the Series into a dictionary and then pass that dictionary to the pd.DataFrame() function. Each Series becomes a column in the resulting DataFrame, and the keys of the dictionary become the column names.\n",
    "       In this example, we first define three Series (name, age, and city) with the same length. We then create a dictionary data with the Series as values and their corresponding column names as keys. Finally, we pass this dictionary to the pd.DataFrame() function to create the DataFrame df. Each Series becomes a column in df, and their column names are 'Name', 'Age', and 'City'."
   ]
  },
  {
   "cell_type": "code",
   "execution_count": 12,
   "id": "26d338a0-37f2-47dc-8cb5-6615e8d287c0",
   "metadata": {},
   "outputs": [
    {
     "name": "stdout",
     "output_type": "stream",
     "text": [
      "    Name  Age      City\n",
      "0   John   25  New York\n",
      "1  Alice   32     Paris\n",
      "2    Bob   19    London\n",
      "3  Emily   27    Sydney\n"
     ]
    }
   ],
   "source": [
    "import pandas as pd\n",
    "\n",
    "name = pd.Series(['John', 'Alice', 'Bob', 'Emily'])\n",
    "age = pd.Series([25, 32, 19, 27])\n",
    "city = pd.Series(['New York', 'Paris', 'London', 'Sydney'])\n",
    "\n",
    "data = {'Name': name, 'Age': age, 'City': city}\n",
    "df = pd.DataFrame(data)\n",
    "\n",
    "print(df)"
   ]
  },
  {
   "cell_type": "code",
   "execution_count": null,
   "id": "cb6004e9-0192-46d7-901f-be67b3d91f71",
   "metadata": {},
   "outputs": [],
   "source": []
  }
 ],
 "metadata": {
  "kernelspec": {
   "display_name": "Python 3 (ipykernel)",
   "language": "python",
   "name": "python3"
  },
  "language_info": {
   "codemirror_mode": {
    "name": "ipython",
    "version": 3
   },
   "file_extension": ".py",
   "mimetype": "text/x-python",
   "name": "python",
   "nbconvert_exporter": "python",
   "pygments_lexer": "ipython3",
   "version": "3.10.8"
  }
 },
 "nbformat": 4,
 "nbformat_minor": 5
}
